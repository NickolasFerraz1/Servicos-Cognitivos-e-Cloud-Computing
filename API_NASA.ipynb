{
  "nbformat": 4,
  "nbformat_minor": 0,
  "metadata": {
    "colab": {
      "provenance": [],
      "authorship_tag": "ABX9TyPr93UtQZxsJ150MK4fF6C+",
      "include_colab_link": true
    },
    "kernelspec": {
      "name": "python3",
      "display_name": "Python 3"
    },
    "language_info": {
      "name": "python"
    }
  },
  "cells": [
    {
      "cell_type": "markdown",
      "metadata": {
        "id": "view-in-github",
        "colab_type": "text"
      },
      "source": [
        "<a href=\"https://colab.research.google.com/github/NickolasFerraz1/Servicos-Cognitivos-e-Cloud-Computing/blob/main/API_NASA.ipynb\" target=\"_parent\"><img src=\"https://colab.research.google.com/assets/colab-badge.svg\" alt=\"Open In Colab\"/></a>"
      ]
    },
    {
      "cell_type": "code",
      "execution_count": 14,
      "metadata": {
        "colab": {
          "base_uri": "https://localhost:8080/"
        },
        "id": "esURS-cGT6sB",
        "outputId": "af642ad8-731d-42cb-d153-d679f84d01fd"
      },
      "outputs": [
        {
          "output_type": "stream",
          "name": "stdout",
          "text": [
            "Escreva spirit ou opportunity: opportunity\n",
            "Digite um número de 1 a 999 para o sol: 30\n",
            "Aqui está o link para sua imagem http://mars.nasa.gov/mer/gallery/all/1/p/030/1P130847584ESF0454P2139R1M1-BR.JPG\n"
          ]
        }
      ],
      "source": [
        "import requests\n",
        "while True:\n",
        "  rovers = input(\"Escreva spirit ou opportunity: \")\n",
        "  if rovers in [\"opportunity\", \"spirit\"]:\n",
        "    break\n",
        "  else:\n",
        "    print(\"Difite um número válido:\")\n",
        "while True:\n",
        "  sol = int(input(\"Digite um número de 1 a 999 para o sol: \"))\n",
        "  if 1 <= sol <= 999:\n",
        "    break\n",
        "  else:\n",
        "    print(\"Digite um número válido\")\n",
        "resultado = requests.get(f\"https://api.nasa.gov/mars-photos/api/v1/rovers/{rovers}/photos?sol={sol}&camera=pancam&api_key=bWNY0fYpPYz5NMqNeL5rGdDaXi6YssmZx4mx07OH\")\n",
        "# Trocar o endpoint para o que o usuário introduziu.\n",
        "dados = resultado.json()  # Gerar o JSON com todas as informações.\n",
        "fotos = dados.get('photos')  # Selecionar apenas a parte onde estão localizadas as photos.\n",
        "imagem = fotos[0].get('img_src')  # Selecionar o link da primeira imagem fornecida pelo JSON.\n",
        "print(f\"Aqui está o link para sua imagem {imagem}\")  # Printar o texto + imagem."
      ]
    }
  ]
}